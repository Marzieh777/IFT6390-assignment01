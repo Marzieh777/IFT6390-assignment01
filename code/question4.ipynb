{
 "cells": [
  {
   "cell_type": "markdown",
   "metadata": {},
   "source": [
    "## Practical part: Density estimation"
   ]
  },
  {
   "cell_type": "code",
   "execution_count": 1,
   "metadata": {},
   "outputs": [],
   "source": [
    "import numpy as np\n",
    "from numpy import pi, exp\n",
    "import matplotlib.pyplot as plt"
   ]
  },
  {
   "cell_type": "markdown",
   "metadata": {},
   "source": [
    "### Load iris dataset"
   ]
  },
  {
   "cell_type": "code",
   "execution_count": 2,
   "metadata": {},
   "outputs": [],
   "source": [
    "# sepal_length,sepal_width,petal_length,petal_width,species\n",
    "iris_data = np.loadtxt(\"iris.txt\")\n",
    "iris_features = iris_data[:, 0:4] \n",
    "species = iris_data[:,-1]"
   ]
  },
  {
   "cell_type": "markdown",
   "metadata": {},
   "source": [
    "## Question 1\n",
    "Implement a diagonal Gaussian parametric density estimator. It will\n",
    "have to work for data of arbitrary dimension d. As seen in the labs, it\n",
    "should have a train() method to learn the parameters and a method\n",
    "predict() which calculates the log density."
   ]
  },
  {
   "cell_type": "code",
   "execution_count": 62,
   "metadata": {},
   "outputs": [],
   "source": [
    "class Gaussian:\n",
    "    \n",
    "    def __init__(self):\n",
    "        self.d = 0\n",
    "        self.mu = 0\n",
    "        # sigma is the covariance matrix\n",
    "        # not the square of the variance\n",
    "        self.sigma = 1\n",
    "        \n",
    "    def reshape_inputs(self, X):\n",
    "        \"\"\"Add a dummy dimension to Xif X have 1 dimension\"\"\"\n",
    "        try:\n",
    "            n, d = X.shape\n",
    "        except ValueError:\n",
    "            n = X.shape[0]\n",
    "            X = X.reshape(n, 1)\n",
    "        return X\n",
    "    \n",
    "    def inv(self, a): return np.linalg.inv(a)\n",
    "    \n",
    "    def det(self, a): return np.linalg.det(a)\n",
    "    \n",
    "    def gaussian(self, x):\n",
    "        Z = (2 * pi * self.sigma)**(1 / 2)\n",
    "        return exp(-(x-self.mu)**2/self.sigma) / Z\n",
    "    \n",
    "    def multi_gaussian(self, x):\n",
    "        Z = (2 * pi)**(self.d / 2) * self.det(self.sigma)**(1 / 2)\n",
    "        return exp(-0.5 * (x - self.mu)**2 * self.inv(self.sigma) * (x - self.mu).T**2) / Z\n",
    "        \n",
    "    def train(self, X):\n",
    "        \"\"\"Fit a diagonal parametric gaussian using log-likelihood\n",
    "        \n",
    "        Args:\n",
    "            X: (array or ndarray) inputs of size <n x 1> or <n x d> \n",
    "        \n",
    "        return: (mu, sigma)\n",
    "        \n",
    "        NOTE: the covariance matrix is multiply by an identity\n",
    "        matrix to ensure that non diagonal element are equal to ]\n",
    "        zero\n",
    "        \"\"\"\n",
    "        X = self.reshape_inputs(X)\n",
    "        n, self.d = X.shape\n",
    "        \n",
    "        self.mu = np.sum(X, axis=0).reshape(1, self.d)/n\n",
    "        self.sigma = np.dot(X.T-self.mu.T, X-self.mu)/(n-1) * np.eye(self.d)\n",
    "        \n",
    "        return self.mu, self.sigma\n",
    "    \n",
    "    def predict(self, x):\n",
    "        \n",
    "        n = x.shape[0]\n",
    "        \n",
    "        if self.d == 1:\n",
    "            return self.gaussian(x).reshape(n,)\n",
    "        else:\n",
    "            return self.multi_gaussian(x)"
   ]
  },
  {
   "cell_type": "markdown",
   "metadata": {},
   "source": [
    "## Question 3\n",
    "1D densities: From the Iris dataset examples, choose a subset corresponding\n",
    "to one of the classes (of your choice), and one of the characteristic\n",
    "features, so that we will be in dimension $d$ = 1 and produce a\n",
    "single graph (using the plot function) including:"
   ]
  },
  {
   "cell_type": "code",
   "execution_count": 65,
   "metadata": {},
   "outputs": [],
   "source": [
    "class OneDimDensities(Gaussian):\n",
    "    \n",
    "    def __init__(self, inputs, model):\n",
    "        \n",
    "        self.inputs = inputs\n",
    "        self.n = len(inputs)\n",
    "        self.model = model\n",
    "        self.mu, self.sigma = model.train(inputs)\n",
    "        \n",
    "        # plot parameters\n",
    "        self.n_bins = 1000\n",
    "        self.x_min = np.min(inputs)-1\n",
    "        self.x_max = np.max(inputs)+1\n",
    "        self.alpha=0.75\n",
    "    \n",
    "    def add_data_points(self):\n",
    "        plt.scatter(self.inputs, np.zeros(self.n), color='red')\n",
    "    \n",
    "    def add_gaussian_density(self):\n",
    "        x = np.linspace(self.x_min, self.x_max, self.n_bins)\n",
    "        prob = self.model.predict(x)\n",
    "        plt.plot(x, prob, color='black', alpha=self.alpha)\n",
    "    \n",
    "    def run(self):\n",
    "        plt.figure()\n",
    "        self.add_data_points()\n",
    "        self.add_gaussian_density()\n",
    "        plt.show()"
   ]
  },
  {
   "cell_type": "code",
   "execution_count": 66,
   "metadata": {},
   "outputs": [
    {
     "data": {
      "image/png": "[encoded data removed]",
      "text/plain": [
       "<Figure size 432x288 with 1 Axes>"
      ]
     },
     "metadata": {
      "needs_background": "light"
     },
     "output_type": "display_data"
    }
   ],
   "source": [
    "gaussian = Gaussian() \n",
    "sepal_length = iris_features[:,0]\n",
    "plot = OneDimDensities(sepal_length, gaussian)\n",
    "plot.run()"
   ]
  }
 ],
 "metadata": {
  "kernelspec": {
   "display_name": "Python 3",
   "language": "python",
   "name": "python3"
  },
  "language_info": {
   "codemirror_mode": {
    "name": "ipython",
    "version": 3
   },
   "file_extension": ".py",
   "mimetype": "text/x-python",
   "name": "python",
   "nbconvert_exporter": "python",
   "pygments_lexer": "ipython3",
   "version": "3.6.6"
  }
 },
 "nbformat": 4,
 "nbformat_minor": 2
}
