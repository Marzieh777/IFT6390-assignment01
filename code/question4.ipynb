{
 "cells": [
  {
   "cell_type": "markdown",
   "metadata": {},
   "source": [
    "## Practical part: Density estimation"
   ]
  },
  {
   "cell_type": "code",
   "execution_count": 39,
   "metadata": {},
   "outputs": [],
   "source": [
    "import numpy as np\n",
    "from numpy import pi, exp, log\n",
    "import matplotlib.pyplot as plt"
   ]
  },
  {
   "cell_type": "markdown",
   "metadata": {},
   "source": [
    "### Load iris dataset"
   ]
  },
  {
   "cell_type": "code",
   "execution_count": 11,
   "metadata": {},
   "outputs": [],
   "source": [
    "# sepal_length,sepal_width,petal_length,petal_width,species\n",
    "iris_data = np.loadtxt(\"iris.txt\")\n",
    "iris_features = iris_data[:, 0:4] \n",
    "species = iris_data[:,-1]"
   ]
  },
  {
   "cell_type": "markdown",
   "metadata": {},
   "source": [
    "## Question 1\n",
    "Implement a diagonal Gaussian parametric density estimator. It will\n",
    "have to work for data of arbitrary dimension d. As seen in the labs, it\n",
    "should have a train() method to learn the parameters and a method\n",
    "predict() which calculates the log density."
   ]
  },
  {
   "cell_type": "code",
   "execution_count": 45,
   "metadata": {},
   "outputs": [],
   "source": [
    "class Gaussian:\n",
    "    \n",
    "    def __init__(self):\n",
    "        self.d = 0\n",
    "        self.mu = 0\n",
    "        # sigma is the covariance matrix\n",
    "        # not the square of the variance\n",
    "        self.sigma = 1\n",
    "        \n",
    "    def reshape_inputs(self, X):\n",
    "        \"\"\"Add a dummy dimension to Xif X have 1 dimension\"\"\"\n",
    "        try:\n",
    "            n, d = X.shape\n",
    "        except ValueError:\n",
    "            n = X.shape[0]\n",
    "            X = X.reshape(n, 1)\n",
    "        return X\n",
    "    \n",
    "    def inv(self, a): return np.linalg.inv(a)\n",
    "    \n",
    "    def det(self, a): return np.linalg.det(a)\n",
    "    \n",
    "    def gaussian(self, x):\n",
    "        Z = (2 * pi * self.sigma)**(1 / 2)\n",
    "        return exp(-(x-self.mu)**2/self.sigma) / Z\n",
    "    \n",
    "    def multi_gaussian(self, x):\n",
    "        Z = (2 * pi)**(self.d / 2) * self.det(self.sigma)**(1 / 2)\n",
    "        return exp(-0.5 * (x - self.mu)**2 * self.inv(self.sigma) * (x - self.mu).T**2) / Z\n",
    "        \n",
    "    def train(self, X):\n",
    "        \"\"\"Fit a diagonal parametric gaussian using log-likelihood\n",
    "        \n",
    "        Args:\n",
    "            X: (array or ndarray) inputs of size <n x 1> or <n x d> \n",
    "        \n",
    "        return: (mu, sigma)\n",
    "        \n",
    "        NOTE: the covariance matrix is multiply by an identity\n",
    "        matrix to ensure that non diagonal element are equal to ]\n",
    "        zero\n",
    "        \"\"\"\n",
    "        X = self.reshape_inputs(X)\n",
    "        n, self.d = X.shape\n",
    "        \n",
    "        self.mu = np.sum(X, axis=0).reshape(1, self.d)/n\n",
    "        self.sigma = np.dot(X.T-self.mu.T, X-self.mu)/(n-1) * np.eye(self.d)\n",
    "        \n",
    "        return self.mu, self.sigma\n",
    "    \n",
    "    def predict(self, x, log_density=True):\n",
    "        \n",
    "        n = x.shape[0]\n",
    "        \n",
    "        if log_density:\n",
    "            if self.d == 1:\n",
    "                return log(self.gaussian(x).reshape(n,))\n",
    "            else:\n",
    "                return log(self.multi_gaussian(x))\n",
    "        else:\n",
    "            if self.d == 1:\n",
    "                return self.gaussian(x).reshape(n,)\n",
    "            else:\n",
    "                return self.multi_gaussian(x)"
   ]
  },
  {
   "cell_type": "markdown",
   "metadata": {},
   "source": [
    "## Question 3\n",
    "Implement a Parzen density estimator with an isotropic Gaussian kernel. It will have to work for data of arbitrary dimension d. Likewise it should have a train() method and a predict() method that computes the log density."
   ]
  },
  {
   "cell_type": "code",
   "execution_count": 55,
   "metadata": {},
   "outputs": [],
   "source": [
    "class Parzen:\n",
    "    \"\"\"\n",
    "    Args:\n",
    "        data: the data to be fit\n",
    "        window: the bandwidth. either silverman, None, or a float. If window is set to None, \n",
    "        the bandwidth is set to the enpirical standard deviation\n",
    "    \"\"\"\n",
    "    def __init__(self, data, window=None):\n",
    "        self.data = data\n",
    "        self.d = 0\n",
    "        self.window = window\n",
    "        \n",
    "    def reshape_inputs(self, X):\n",
    "        \"\"\"Add a dummy dimension to X if X have 1 dimension\"\"\"\n",
    "        try:\n",
    "            n, d = X.shape\n",
    "        except ValueError:\n",
    "            n = X.shape[0]\n",
    "            X = X.reshape(n, 1)\n",
    "        return X\n",
    "    \n",
    "    def gaussian(self, x, mu):\n",
    "        Z = (2 * pi)**(1 / 2) * self.window\n",
    "        u = (x - mu) / self.window\n",
    "        return exp(-u**2 / 2) / Z\n",
    "        \n",
    "    def train(self):\n",
    "        \"\"\"\n",
    "        \n",
    "        \"\"\"\n",
    "        X = self.reshape_inputs(self.data)\n",
    "        n, self.d = X.shape\n",
    "        mu = np.sum(X, axis=0).reshape(1, self.d)/n\n",
    "        \n",
    "        if self.window == 'silverman':\n",
    "        \n",
    "            sigma = np.mean(np.diag(np.dot(X.T-mu.T, X-mu)/(n-1) * np.eye(self.d)))\n",
    "            \n",
    "            self.window = ((4 * sigma**5) / (3*n))**(1 / 5)\n",
    "            \n",
    "        elif self.window is None:\n",
    "            \n",
    "            sigma = np.mean(np.diag(np.dot(X.T-mu.T, X-mu)/(n-1) * np.eye(self.d)))\n",
    "            \n",
    "            self.window = sigma\n",
    "    \n",
    "    def predict(self, x, log_density=True):\n",
    "        \n",
    "        n = self.data.shape[0]\n",
    "        if log_density:\n",
    "            return log(sum([self.gaussian(x, xi) for xi in self.data]) / n)\n",
    "        else:\n",
    "            return sum([self.gaussian(x, xi) for xi in self.data]) / n"
   ]
  },
  {
   "cell_type": "markdown",
   "metadata": {},
   "source": [
    "## Question 3\n",
    "1D densities: From the Iris dataset examples, choose a subset corresponding\n",
    "to one of the classes (of your choice), and one of the characteristic\n",
    "features, so that we will be in dimension $d$ = 1 and produce a\n",
    "single graph (using the plot function) including:"
   ]
  },
  {
   "cell_type": "code",
   "execution_count": 64,
   "metadata": {},
   "outputs": [],
   "source": [
    "class OneDimDensities:\n",
    "    \n",
    "    def __init__(self, inputs, gaussian):\n",
    "        \n",
    "        self.inputs = inputs\n",
    "        self.gaussian = gaussian\n",
    "        \n",
    "        self.n = len(inputs)\n",
    "        self.mu, self.sigma = gaussian.train(inputs)\n",
    "        \n",
    "        # plot parameters\n",
    "        self.n_bins = 1000\n",
    "        self.x_min = np.min(inputs)-1\n",
    "        self.x_max = np.max(inputs)+1\n",
    "        self.alpha=0.75\n",
    "        \n",
    "        self.legend = [\n",
    "            'Parametric Gaussian', \n",
    "            'KDE small sigma',\n",
    "            'KDE large sigma',\n",
    "            'KDE appropriate sigma',\n",
    "            'data points'\n",
    "        ]\n",
    "    \n",
    "    def add_data_points(self):\n",
    "        \"\"\"Plot the data points of the inputs \n",
    "        (displayed on the x axis)\"\"\"\n",
    "        plt.scatter(self.inputs, np.zeros(self.n), color='red')\n",
    "    \n",
    "    def add_gaussian_density(self):\n",
    "        \"\"\"Plot of the density estimated by \n",
    "        the parametric Gaussian estimator\"\"\"\n",
    "        x = np.linspace(self.x_min, self.x_max, self.n_bins)\n",
    "        prob = self.gaussian.predict(x, log_density=False)\n",
    "        plt.plot(x, prob, color='black', alpha=self.alpha)\n",
    "        \n",
    "    def add_kde(self, sigma_size):\n",
    "        \"\"\"Plot the density estimated by the Parzen estimator with \n",
    "        a hyper-parameter σ (standard deviation) too small\n",
    "        \n",
    "        Args:\n",
    "            sigma_size: either small, big or normal\n",
    "        \"\"\"\n",
    "        X = np.linspace(self.x_min, self.x_max, self.n_bins)\n",
    "        if sigma_size == 'small':\n",
    "            kde = Parzen(self.inputs, window=0.1)\n",
    "            color = 'green'\n",
    "        elif sigma_size == 'big':\n",
    "            kde = Parzen(self.inputs, window=2)\n",
    "            color = 'blue'\n",
    "        elif sigma_size == 'normal':\n",
    "            kde = Parzen(self.inputs)\n",
    "            color = 'orange'\n",
    "        kde.train()\n",
    "        prob = [kde.predict(x, log_density=False) for x in X]\n",
    "        plt.plot(X, prob, color, alpha=self.alpha)\n",
    "    \n",
    "    def add_legend(self):\n",
    "        plt.legend(self.legend)\n",
    "    \n",
    "    def run(self):\n",
    "        plt.figure()\n",
    "        self.add_data_points()\n",
    "        self.add_gaussian_density()\n",
    "        self.add_kde('small')\n",
    "        self.add_kde('big')\n",
    "        self.add_kde('normal')\n",
    "        self.add_legend()\n",
    "        plt.show()"
   ]
  },
  {
   "cell_type": "code",
   "execution_count": 65,
   "metadata": {},
   "outputs": [
    {
     "data": {
      "image/png": "[encoded data removed]",
      "text/plain": [
       "<Figure size 432x288 with 1 Axes>"
      ]
     },
     "metadata": {
      "needs_background": "light"
     },
     "output_type": "display_data"
    }
   ],
   "source": [
    "sepal_length = iris_features[:,0]\n",
    "gaussian = Gaussian()\n",
    "plot = OneDimDensities(sepal_length, gaussian)\n",
    "plot.run()"
   ]
  },
  {
   "cell_type": "markdown",
   "metadata": {},
   "source": [
    "## Question 4"
   ]
  },
  {
   "cell_type": "code",
   "execution_count": null,
   "metadata": {},
   "outputs": [],
   "source": [
    "class TwoDimDensities:\n",
    "    \n",
    "    def __init__(self, inputs, gaussian):\n",
    "        \n",
    "        self.inputs = inputs\n",
    "        self.gaussian = gaussian\n",
    "        \n",
    "        self.n = len(inputs)\n",
    "        self.mu, self.sigma = gaussian.train(inputs)\n",
    "        \n",
    "        # plot parameters\n",
    "        self.n_bins = 1000\n",
    "        self.x_min = np.min(inputs)-1\n",
    "        self.x_max = np.max(inputs)+1\n",
    "        self.alpha = 0.75\n",
    "        \n",
    "        self.legend = [\n",
    "            'Parametric Gaussian', \n",
    "            'KDE small sigma',\n",
    "            'KDE large sigma',\n",
    "            'KDE appropriate sigma',\n",
    "            'data points'\n",
    "        ]\n",
    "    \n",
    "    def add_data_points(self):\n",
    "        \"\"\"Plot the data points of the inputs \n",
    "        (displayed on the x axis)\"\"\"\n",
    "        plt.scatter(self.inputs, np.zeros(self.n), color='red')\n",
    "    \n",
    "    def add_gaussian_density(self):\n",
    "        pass\n",
    "    \n",
    "    def run(self):\n",
    "        plt.figure()\n",
    "        self.add_data_points()\n",
    "        plt.show()"
   ]
  },
  {
   "cell_type": "code",
   "execution_count": null,
   "metadata": {},
   "outputs": [],
   "source": [
    "sepal_length = iris_features[:,0]\n",
    "gaussian = Gaussian()\n",
    "plot = TwoDimDensities(sepal_length, gaussian)\n",
    "plot.run()"
   ]
  }
 ],
 "metadata": {
  "kernelspec": {
   "display_name": "Python 3",
   "language": "python",
   "name": "python3"
  },
  "language_info": {
   "codemirror_mode": {
    "name": "ipython",
    "version": 3
   },
   "file_extension": ".py",
   "mimetype": "text/x-python",
   "name": "python",
   "nbconvert_exporter": "python",
   "pygments_lexer": "ipython3",
   "version": "3.6.6"
  }
 },
 "nbformat": 4,
 "nbformat_minor": 2
}
